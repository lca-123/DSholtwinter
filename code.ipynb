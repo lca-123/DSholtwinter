{
 "cells": [
  {
   "cell_type": "code",
   "execution_count": 1,
   "metadata": {},
   "outputs": [],
   "source": [
    "import pandas as pd\n",
    "import numpy as np\n",
    "# 导入数据\n",
    "data=pd.read_excel('Call-Center-Dataset.xlsx')[['Call Id','Date']]\n",
    "# 将时间设为索引\n",
    "data.index=data['Date']\n",
    "del data['Date']\n",
    "# 按小时重采样\n",
    "data=data.groupby(data.index.to_period('H')).count()\n",
    "# 将索引变为时间序列\n",
    "data.index=data.index.astype('datetime64[ns]')\n",
    "# 填补缺失时间索引\n",
    "date = pd.date_range('2015-01-01 09',periods=9,freq='H')\n",
    "for day in pd.date_range('2015-01-02','2015-03-31',freq='D'):\n",
    "    date=date.union(pd.date_range(str(day)[:10]+' 09',periods=9,freq='H'))\n",
    "date\n",
    "data=data.reindex(date)\n",
    "# 填补缺失值\n",
    "data=data.fillna(0)"
   ]
  },
  {
   "cell_type": "markdown",
   "metadata": {},
   "source": [
    "![图片](figure/模型公式.png)"
   ]
  },
  {
   "cell_type": "code",
   "execution_count": null,
   "metadata": {},
   "outputs": [],
   "source": [
    "# 划分测试集和训练集\n",
    "train=list(data.truncate(before='2015-01-01',after='2015-01-22')['Call Id'].values)\n",
    "test=list(data.truncate(before='2015-01-22')['Call Id'].values)"
   ]
  },
  {
   "cell_type": "code",
   "execution_count": null,
   "metadata": {},
   "outputs": [],
   "source": [
    "from holtwinter import DoubleSeasonalHoltWinter\n",
    "dh=DoubleSeasonalHoltWinter(train,test,random_state=3)\n",
    "print(dh.fit(candidates=10,max_iter=10))\n",
    "dh.show_paramter()\n",
    "print(dh.predict())\n",
    "\n",
    "# plt.plot(dh.y_preds[:],'r')\n",
    "# plt.plot(test[:],'b')\n",
    "# plt.legend(['pred','real'])\n",
    "\n",
    "dh.plot_hat(0,2*63)"
   ]
  }
 ],
 "metadata": {
  "interpreter": {
   "hash": "6b3486b62bd696fe6ad6224239671e4272353708ddbc18d3bcc10b4413f1aaf9"
  },
  "kernelspec": {
   "display_name": "Python 3.8.1 64-bit",
   "language": "python",
   "name": "python3"
  },
  "language_info": {
   "codemirror_mode": {
    "name": "ipython",
    "version": 3
   },
   "file_extension": ".py",
   "mimetype": "text/x-python",
   "name": "python",
   "nbconvert_exporter": "python",
   "pygments_lexer": "ipython3",
   "version": "3.8.1"
  },
  "orig_nbformat": 4
 },
 "nbformat": 4,
 "nbformat_minor": 2
}
